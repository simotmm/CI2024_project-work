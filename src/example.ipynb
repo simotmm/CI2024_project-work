{
 "cells": [
  {
   "cell_type": "markdown",
   "metadata": {},
   "source": [
    "# Symbolic Regression with Genetic Programming\n",
    "Example of execution"
   ]
  },
  {
   "cell_type": "markdown",
   "metadata": {},
   "source": [
    "### Imports\n",
    "- Warning are filtered because they are correctly treated during the program.\n",
    "- Settings class to set parameters.\n",
    "- Utils functions to get data and find solutions."
   ]
  },
  {
   "cell_type": "code",
   "execution_count": 1,
   "metadata": {},
   "outputs": [],
   "source": [
    "from utils import get_problem\n",
    "from classes import Settings\n",
    "from genetic_algorithm import genetic_programming_algorithm"
   ]
  },
  {
   "cell_type": "markdown",
   "metadata": {},
   "source": [
    "### Problems data and settings"
   ]
  },
  {
   "cell_type": "code",
   "execution_count": 2,
   "metadata": {},
   "outputs": [],
   "source": [
    "PROBLEM_ID = 3\n",
    "PROBLEM = get_problem(PROBLEM_ID)\n",
    "SETTINGS = Settings(\n",
    "    id=PROBLEM_ID,\n",
    "    population_dim=300,\n",
    "    max_generations=5000,\n",
    "    max_depth=6,\n",
    "    mutation_prob=0.5,\n",
    "    elitism=0.1)\n",
    "PROBLEM.settings = SETTINGS"
   ]
  },
  {
   "cell_type": "markdown",
   "metadata": {},
   "source": [
    "### Solutions provided by genetic programming algorithm"
   ]
  },
  {
   "cell_type": "code",
   "execution_count": 3,
   "metadata": {},
   "outputs": [
    {
     "name": "stdout",
     "output_type": "stream",
     "text": [
      "problem 3:\n",
      "x shape: (3, 5000)\n",
      "population size: 300, max generations: 1000, max depth 6, mutation probability 50.0%, elitism: 10.0%\n",
      "creation of the inititial population...\n",
      "population generater, average depth in 300 trees: 0.77\n"
     ]
    },
    {
     "name": "stderr",
     "output_type": "stream",
     "text": [
      "genetic_algorithm: 100%|██████████| 1000/1000 [00:20<00:00, 49.70gen/s, best Fitness=-221.02749069957974, depth=6]"
     ]
    },
    {
     "name": "stdout",
     "output_type": "stream",
     "text": [
      "process complete, elapsed time: 20.13 seconds\n",
      "best fitness: -221.02749069957974, tree depth: 6\n",
      "f3(x) = np.subtract(np.subtract(np.abs(np.subtract(np.add(np.multiply(-6.4,x[0]),x[1]),x[0])),np.multiply(np.add(np.abs(x[1]),np.add(6.1,np.abs(x[1]))),x[1])),np.add(x[2],np.add(x[2],np.add(x[1],x[2]))))\n",
      "\n"
     ]
    },
    {
     "name": "stderr",
     "output_type": "stream",
     "text": [
      "\n"
     ]
    }
   ],
   "source": [
    "solution = genetic_programming_algorithm(PROBLEM)"
   ]
  }
 ],
 "metadata": {
  "kernelspec": {
   "display_name": "Python 3",
   "language": "python",
   "name": "python3"
  },
  "language_info": {
   "codemirror_mode": {
    "name": "ipython",
    "version": 3
   },
   "file_extension": ".py",
   "mimetype": "text/x-python",
   "name": "python",
   "nbconvert_exporter": "python",
   "pygments_lexer": "ipython3",
   "version": "3.12.8"
  }
 },
 "nbformat": 4,
 "nbformat_minor": 2
}
